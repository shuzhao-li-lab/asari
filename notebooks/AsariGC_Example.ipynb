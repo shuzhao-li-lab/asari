{
 "cells": [
  {
   "cell_type": "code",
   "execution_count": 3,
   "metadata": {},
   "outputs": [
    {
     "name": "stdout",
     "output_type": "stream",
     "text": [
      "\n",
      "\n",
      "~~~~~~~ Hello from Asari (2.0.0) ~~~~~~~~~\n",
      "\n",
      "Working on ~~ /Users/mitchjo/Projects/ARPAH_demos/GC_Datasets ~~ \n",
      "\n",
      "\n",
      "Extracted B240712_GCPTV_CLU0102_003.mzML to 2888 mass tracks.\n",
      "Extracted B240712_GCPTV_CLU0102_002.mzML to 2570 mass tracks.\n",
      "Extracted B240712_GCPTV_CLU0102_010.mzML to 5888 mass tracks.\n",
      "Extracted B240712_GCPTV_CLU0102_011.mzML to 6273 mass tracks.\n",
      "Extracted B240712_GCPTV_CLU0102_012.mzML to 7089 mass tracks.\n",
      "Extracted B240712_GCPTV_CLU0102_015.mzML to 6049 mass tracks.\n",
      "Extracted B240712_GCPTV_CLU0102_055.mzML to 6407 mass tracks.\n",
      "\n",
      "    The reference sample is:\n",
      "    ||* B240712_GCPTV_CLU0102_012 *||\n",
      "\n",
      "Max reference retention time is 972.12 at scan number 6432.\n",
      "\n",
      "Processing Project using GC Workflow\n",
      "  0%|                                                     | 0/1 [00:00<?, ?it/s]None\n",
      "  0%|                                                     | 0/1 [00:00<?, ?it/s]\n",
      "Traceback (most recent call last):\n",
      "  File \"/Users/mitchjo/Library/Python/3.11/bin/asari\", line 8, in <module>\n",
      "    sys.exit(main())\n",
      "             ^^^^^^\n",
      "  File \"/Users/mitchjo/Library/Python/3.11/lib/python/site-packages/asari/main.py\", line 261, in main\n",
      "    subcommands[args.run](parameters, args)\n",
      "  File \"/Users/mitchjo/Library/Python/3.11/lib/python/site-packages/asari/main.py\", line 47, in process\n",
      "    __run_process__(parameters, args)\n",
      "  File \"/Users/mitchjo/Library/Python/3.11/lib/python/site-packages/asari/main.py\", line 44, in __run_process__\n",
      "    process_project(list_input_files, parameters)\n",
      "  File \"/Users/mitchjo/Library/Python/3.11/lib/python/site-packages/asari/workflow.py\", line 52, in process_project\n",
      "    workflows[parameters['workflow']](EE, list_input_files, parameters)\n",
      "  File \"/Users/mitchjo/Library/Python/3.11/lib/python/site-packages/asari/workflow.py\", line 57, in process_GC_project\n",
      "    EE.process_all_GC()\n",
      "  File \"/Users/mitchjo/Library/Python/3.11/lib/python/site-packages/asari/experiment.py\", line 217, in process_all_GC\n",
      "    self.populate_RI_lookup(mapping)\n",
      "  File \"/Users/mitchjo/Library/Python/3.11/lib/python/site-packages/asari/experiment.py\", line 171, in populate_RI_lookup\n",
      "    reference_instance = SimpleSample(self.sample_registry[reference_id], experiment=self)\n",
      "                                      ~~~~~~~~~~~~~~~~~~~~^^^^^^^^^^^^^^\n",
      "KeyError: None\n"
     ]
    }
   ],
   "source": [
    "!asari process -i /Users/mitchjo/Projects/ARPAH_demos/GC_Datasets -j test_db --database_mode memory --RI_landmarks=\"/Users/mitchjo/asari/RI_hits_walker.csv\" --workflow GC"
   ]
  }
 ],
 "metadata": {
  "kernelspec": {
   "display_name": "Python 3",
   "language": "python",
   "name": "python3"
  },
  "language_info": {
   "codemirror_mode": {
    "name": "ipython",
    "version": 3
   },
   "file_extension": ".py",
   "mimetype": "text/x-python",
   "name": "python",
   "nbconvert_exporter": "python",
   "pygments_lexer": "ipython3",
   "version": "3.11.6"
  }
 },
 "nbformat": 4,
 "nbformat_minor": 2
}
